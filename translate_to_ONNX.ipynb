{
 "cells": [
  {
   "cell_type": "code",
   "execution_count": null,
   "id": "a594f777",
   "metadata": {},
   "outputs": [],
   "source": [
    "import torch\n",
    "\n",
    "# Định nghĩa kiến trúc mô hình (cần đúng như lúc train)\n",
    "from model import MyModel  # hoặc model class bạn đã dùng\n",
    "\n",
    "model = MyModel()\n",
    "model.load_state_dict(torch.load(\"best.pt\", map_location=torch.device('cpu')))\n",
    "model.eval()\n"
   ]
  }
 ],
 "metadata": {
  "kernelspec": {
   "display_name": "base",
   "language": "python",
   "name": "python3"
  },
  "language_info": {
   "codemirror_mode": {
    "name": "ipython",
    "version": 3
   },
   "file_extension": ".py",
   "mimetype": "text/x-python",
   "name": "python",
   "nbconvert_exporter": "python",
   "pygments_lexer": "ipython3",
   "version": "3.12.7"
  }
 },
 "nbformat": 4,
 "nbformat_minor": 5
}
